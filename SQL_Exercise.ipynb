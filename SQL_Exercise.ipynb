{
 "cells": [
  {
   "cell_type": "code",
   "execution_count": 1,
   "id": "f7098048",
   "metadata": {
    "slideshow": {
     "slide_type": "skip"
    }
   },
   "outputs": [],
   "source": [
    "import sqlite3\n",
    "import pandas as pd\n",
    "import numpy as np"
   ]
  },
  {
   "cell_type": "code",
   "execution_count": 2,
   "id": "345d8c05",
   "metadata": {
    "slideshow": {
     "slide_type": "skip"
    }
   },
   "outputs": [
    {
     "data": {
      "text/html": [
       "<div>\n",
       "<style scoped>\n",
       "    .dataframe tbody tr th:only-of-type {\n",
       "        vertical-align: middle;\n",
       "    }\n",
       "\n",
       "    .dataframe tbody tr th {\n",
       "        vertical-align: top;\n",
       "    }\n",
       "\n",
       "    .dataframe thead th {\n",
       "        text-align: right;\n",
       "    }\n",
       "</style>\n",
       "<table border=\"1\" class=\"dataframe\">\n",
       "  <thead>\n",
       "    <tr style=\"text-align: right;\">\n",
       "      <th></th>\n",
       "      <th>user_id</th>\n",
       "      <th>follows</th>\n",
       "      <th>date</th>\n",
       "    </tr>\n",
       "  </thead>\n",
       "  <tbody>\n",
       "    <tr>\n",
       "      <th>0</th>\n",
       "      <td>1</td>\n",
       "      <td>2</td>\n",
       "      <td>1993-09-01</td>\n",
       "    </tr>\n",
       "    <tr>\n",
       "      <th>1</th>\n",
       "      <td>2</td>\n",
       "      <td>1</td>\n",
       "      <td>1989-01-01</td>\n",
       "    </tr>\n",
       "    <tr>\n",
       "      <th>2</th>\n",
       "      <td>3</td>\n",
       "      <td>1</td>\n",
       "      <td>1993-07-01</td>\n",
       "    </tr>\n",
       "    <tr>\n",
       "      <th>3</th>\n",
       "      <td>2</td>\n",
       "      <td>3</td>\n",
       "      <td>1994-10-10</td>\n",
       "    </tr>\n",
       "    <tr>\n",
       "      <th>4</th>\n",
       "      <td>3</td>\n",
       "      <td>2</td>\n",
       "      <td>1995-03-01</td>\n",
       "    </tr>\n",
       "    <tr>\n",
       "      <th>5</th>\n",
       "      <td>4</td>\n",
       "      <td>2</td>\n",
       "      <td>1988-08-08</td>\n",
       "    </tr>\n",
       "    <tr>\n",
       "      <th>6</th>\n",
       "      <td>4</td>\n",
       "      <td>1</td>\n",
       "      <td>1988-08-08</td>\n",
       "    </tr>\n",
       "    <tr>\n",
       "      <th>7</th>\n",
       "      <td>1</td>\n",
       "      <td>4</td>\n",
       "      <td>1994-04-02</td>\n",
       "    </tr>\n",
       "    <tr>\n",
       "      <th>8</th>\n",
       "      <td>1</td>\n",
       "      <td>5</td>\n",
       "      <td>2000-01-01</td>\n",
       "    </tr>\n",
       "    <tr>\n",
       "      <th>9</th>\n",
       "      <td>5</td>\n",
       "      <td>1</td>\n",
       "      <td>2000-01-02</td>\n",
       "    </tr>\n",
       "    <tr>\n",
       "      <th>10</th>\n",
       "      <td>5</td>\n",
       "      <td>6</td>\n",
       "      <td>1986-01-10</td>\n",
       "    </tr>\n",
       "    <tr>\n",
       "      <th>11</th>\n",
       "      <td>7</td>\n",
       "      <td>1</td>\n",
       "      <td>1990-02-02</td>\n",
       "    </tr>\n",
       "    <tr>\n",
       "      <th>12</th>\n",
       "      <td>1</td>\n",
       "      <td>7</td>\n",
       "      <td>1996-10-01</td>\n",
       "    </tr>\n",
       "    <tr>\n",
       "      <th>13</th>\n",
       "      <td>1</td>\n",
       "      <td>8</td>\n",
       "      <td>1993-09-03</td>\n",
       "    </tr>\n",
       "    <tr>\n",
       "      <th>14</th>\n",
       "      <td>8</td>\n",
       "      <td>1</td>\n",
       "      <td>1995-09-01</td>\n",
       "    </tr>\n",
       "    <tr>\n",
       "      <th>15</th>\n",
       "      <td>8</td>\n",
       "      <td>9</td>\n",
       "      <td>1995-09-01</td>\n",
       "    </tr>\n",
       "    <tr>\n",
       "      <th>16</th>\n",
       "      <td>9</td>\n",
       "      <td>8</td>\n",
       "      <td>1996-01-10</td>\n",
       "    </tr>\n",
       "    <tr>\n",
       "      <th>17</th>\n",
       "      <td>7</td>\n",
       "      <td>8</td>\n",
       "      <td>1993-09-01</td>\n",
       "    </tr>\n",
       "    <tr>\n",
       "      <th>18</th>\n",
       "      <td>3</td>\n",
       "      <td>9</td>\n",
       "      <td>1996-05-30</td>\n",
       "    </tr>\n",
       "    <tr>\n",
       "      <th>19</th>\n",
       "      <td>4</td>\n",
       "      <td>9</td>\n",
       "      <td>1996-05-30</td>\n",
       "    </tr>\n",
       "  </tbody>\n",
       "</table>\n",
       "</div>"
      ],
      "text/plain": [
       "    user_id  follows        date\n",
       "0         1        2  1993-09-01\n",
       "1         2        1  1989-01-01\n",
       "2         3        1  1993-07-01\n",
       "3         2        3  1994-10-10\n",
       "4         3        2  1995-03-01\n",
       "5         4        2  1988-08-08\n",
       "6         4        1  1988-08-08\n",
       "7         1        4  1994-04-02\n",
       "8         1        5  2000-01-01\n",
       "9         5        1  2000-01-02\n",
       "10        5        6  1986-01-10\n",
       "11        7        1  1990-02-02\n",
       "12        1        7  1996-10-01\n",
       "13        1        8  1993-09-03\n",
       "14        8        1  1995-09-01\n",
       "15        8        9  1995-09-01\n",
       "16        9        8  1996-01-10\n",
       "17        7        8  1993-09-01\n",
       "18        3        9  1996-05-30\n",
       "19        4        9  1996-05-30"
      ]
     },
     "execution_count": 2,
     "metadata": {},
     "output_type": "execute_result"
    }
   ],
   "source": [
    "follows = pd.read_csv(\"follows.csv\")\n",
    "follows"
   ]
  },
  {
   "cell_type": "code",
   "execution_count": 3,
   "id": "803fbae3",
   "metadata": {
    "scrolled": false,
    "slideshow": {
     "slide_type": "skip"
    }
   },
   "outputs": [
    {
     "data": {
      "text/html": [
       "<div>\n",
       "<style scoped>\n",
       "    .dataframe tbody tr th:only-of-type {\n",
       "        vertical-align: middle;\n",
       "    }\n",
       "\n",
       "    .dataframe tbody tr th {\n",
       "        vertical-align: top;\n",
       "    }\n",
       "\n",
       "    .dataframe thead th {\n",
       "        text-align: right;\n",
       "    }\n",
       "</style>\n",
       "<table border=\"1\" class=\"dataframe\">\n",
       "  <thead>\n",
       "    <tr style=\"text-align: right;\">\n",
       "      <th></th>\n",
       "      <th>user_id</th>\n",
       "      <th>first_name</th>\n",
       "      <th>last_name</th>\n",
       "      <th>house</th>\n",
       "      <th>full_name</th>\n",
       "    </tr>\n",
       "  </thead>\n",
       "  <tbody>\n",
       "    <tr>\n",
       "      <th>0</th>\n",
       "      <td>1</td>\n",
       "      <td>Harry</td>\n",
       "      <td>Potter</td>\n",
       "      <td>Gryffindor</td>\n",
       "      <td>Harry Potter</td>\n",
       "    </tr>\n",
       "    <tr>\n",
       "      <th>1</th>\n",
       "      <td>2</td>\n",
       "      <td>Ron</td>\n",
       "      <td>Wesley</td>\n",
       "      <td>Gryffindor</td>\n",
       "      <td>Ron Wesley</td>\n",
       "    </tr>\n",
       "    <tr>\n",
       "      <th>2</th>\n",
       "      <td>3</td>\n",
       "      <td>Hermonie</td>\n",
       "      <td>Granger</td>\n",
       "      <td>Gryffindor</td>\n",
       "      <td>Hermonie Granger</td>\n",
       "    </tr>\n",
       "    <tr>\n",
       "      <th>3</th>\n",
       "      <td>4</td>\n",
       "      <td>Ginny</td>\n",
       "      <td>Weasley</td>\n",
       "      <td>Gryffindor</td>\n",
       "      <td>Ginny Weasley</td>\n",
       "    </tr>\n",
       "    <tr>\n",
       "      <th>4</th>\n",
       "      <td>5</td>\n",
       "      <td>Draco</td>\n",
       "      <td>Malfoy</td>\n",
       "      <td>Slytherin</td>\n",
       "      <td>Draco Malfoy</td>\n",
       "    </tr>\n",
       "    <tr>\n",
       "      <th>5</th>\n",
       "      <td>6</td>\n",
       "      <td>Tom</td>\n",
       "      <td>Riddle</td>\n",
       "      <td>Slytherin</td>\n",
       "      <td>Tom Riddle</td>\n",
       "    </tr>\n",
       "    <tr>\n",
       "      <th>6</th>\n",
       "      <td>7</td>\n",
       "      <td>Luna</td>\n",
       "      <td>Lovegood</td>\n",
       "      <td>Ravenclaw</td>\n",
       "      <td>Luna Lovegood</td>\n",
       "    </tr>\n",
       "    <tr>\n",
       "      <th>7</th>\n",
       "      <td>8</td>\n",
       "      <td>Cho</td>\n",
       "      <td>Chang</td>\n",
       "      <td>Ravenclaw</td>\n",
       "      <td>Cho Chang</td>\n",
       "    </tr>\n",
       "    <tr>\n",
       "      <th>8</th>\n",
       "      <td>9</td>\n",
       "      <td>Cedric</td>\n",
       "      <td>Diggory</td>\n",
       "      <td>Hufflepuff</td>\n",
       "      <td>Cedric Diggory</td>\n",
       "    </tr>\n",
       "  </tbody>\n",
       "</table>\n",
       "</div>"
      ],
      "text/plain": [
       "   user_id first_name last_name       house         full_name\n",
       "0        1      Harry    Potter  Gryffindor      Harry Potter\n",
       "1        2        Ron    Wesley  Gryffindor        Ron Wesley\n",
       "2        3   Hermonie   Granger  Gryffindor  Hermonie Granger\n",
       "3        4      Ginny   Weasley  Gryffindor     Ginny Weasley\n",
       "4        5      Draco    Malfoy   Slytherin      Draco Malfoy\n",
       "5        6        Tom    Riddle   Slytherin        Tom Riddle\n",
       "6        7       Luna  Lovegood   Ravenclaw     Luna Lovegood\n",
       "7        8        Cho     Chang   Ravenclaw         Cho Chang\n",
       "8        9     Cedric   Diggory  Hufflepuff    Cedric Diggory"
      ]
     },
     "execution_count": 3,
     "metadata": {},
     "output_type": "execute_result"
    }
   ],
   "source": [
    "users = pd.read_csv(\"users.csv\")\n",
    "users[\"full_name\"] = users[\"first_name\"] + \" \" + users[\"last_name\"]\n",
    "users"
   ]
  },
  {
   "cell_type": "code",
   "execution_count": 4,
   "id": "601ba5ee",
   "metadata": {
    "slideshow": {
     "slide_type": "skip"
    }
   },
   "outputs": [],
   "source": [
    "my_dfs = {\"follows\": follows, \"users\": users}\n",
    "\n",
    "with sqlite3.connect(\"data.sqlite\") as my_db:\n",
    "    for table_name, df in my_dfs.items():\n",
    "        df.to_sql(table_name, my_db, if_exists = \"replace\")\n",
    "\n",
    "conn = sqlite3.connect(\"data.sqlite\")\n",
    "db = conn.cursor()"
   ]
  },
  {
   "cell_type": "markdown",
   "id": "996a0915",
   "metadata": {
    "slideshow": {
     "slide_type": "slide"
    }
   },
   "source": [
    "# How many users are there in each house?"
   ]
  },
  {
   "cell_type": "code",
   "execution_count": 5,
   "id": "cc5527f8",
   "metadata": {
    "slideshow": {
     "slide_type": "subslide"
    }
   },
   "outputs": [
    {
     "data": {
      "text/plain": [
       "[('Gryffindor', 4), ('Hufflepuff', 1), ('Ravenclaw', 2), ('Slytherin', 2)]"
      ]
     },
     "execution_count": 5,
     "metadata": {},
     "output_type": "execute_result"
    }
   ],
   "source": [
    "query = \"\"\"\n",
    "    SELECT house, COUNT(house)\n",
    "    FROM users\n",
    "    GROUP BY house\n",
    "\"\"\"\n",
    "\n",
    "db.execute(query)\n",
    "users_per_house = db.fetchall()\n",
    "users_per_house"
   ]
  },
  {
   "cell_type": "markdown",
   "id": "52fc1f16",
   "metadata": {
    "slideshow": {
     "slide_type": "slide"
    }
   },
   "source": [
    "# List all following links that were created before September 1st, 1993."
   ]
  },
  {
   "cell_type": "code",
   "execution_count": 7,
   "id": "fe160071",
   "metadata": {
    "slideshow": {
     "slide_type": "subslide"
    }
   },
   "outputs": [
    {
     "data": {
      "text/plain": [
       "[(2, 1, '1989-01-01'),\n",
       " (3, 1, '1993-07-01'),\n",
       " (4, 2, '1988-08-08'),\n",
       " (4, 1, '1988-08-08'),\n",
       " (5, 6, '1986-01-10'),\n",
       " (7, 1, '1990-02-02')]"
      ]
     },
     "execution_count": 7,
     "metadata": {},
     "output_type": "execute_result"
    }
   ],
   "source": [
    "query = \"\"\"\n",
    "    SELECT user_id, follows, date\n",
    "    FROM follows\n",
    "    WHERE date < '1993-09-01'\n",
    "\"\"\"\n",
    "\n",
    "db.execute(query)\n",
    "links_created_before_1993_09_01 = db.fetchall()\n",
    "links_created_before_1993_09_01"
   ]
  },
  {
   "cell_type": "markdown",
   "id": "90094fca",
   "metadata": {
    "slideshow": {
     "slide_type": "slide"
    }
   },
   "source": [
    "# List all the following links established before September 1st 1993, but this time use the users' first names."
   ]
  },
  {
   "cell_type": "code",
   "execution_count": 8,
   "id": "ed04edcd",
   "metadata": {
    "slideshow": {
     "slide_type": "subslide"
    }
   },
   "outputs": [
    {
     "data": {
      "text/plain": [
       "[('Ron', 'Harry', '1989-01-01'),\n",
       " ('Hermonie', 'Harry', '1993-07-01'),\n",
       " ('Ginny', 'Ron', '1988-08-08'),\n",
       " ('Ginny', 'Harry', '1988-08-08'),\n",
       " ('Draco', 'Tom', '1986-01-10'),\n",
       " ('Luna', 'Harry', '1990-02-02')]"
      ]
     },
     "execution_count": 8,
     "metadata": {},
     "output_type": "execute_result"
    }
   ],
   "source": [
    "query = \"\"\"\n",
    "    SELECT uid.first_name, uf.first_name, follows.date\n",
    "    FROM follows\n",
    "    LEFT JOIN users uid ON uid.user_id = follows.user_id\n",
    "    LEFT JOIN users uf ON uf.user_id = follows.follows\n",
    "    WHERE follows.date < '1993-09-01'\n",
    "\"\"\"\n",
    "\n",
    "db.execute(query)\n",
    "links_created_before_1993_09_01_first_names = db.fetchall()\n",
    "links_created_before_1993_09_01_first_names"
   ]
  },
  {
   "cell_type": "markdown",
   "id": "477863c4",
   "metadata": {
    "slideshow": {
     "slide_type": "slide"
    }
   },
   "source": [
    "# Give a count of how many people followed each user as of 1999-12-31. Give the result in term of \"users' full name, number of followers.\""
   ]
  },
  {
   "cell_type": "code",
   "execution_count": 9,
   "id": "77ba99bb",
   "metadata": {
    "slideshow": {
     "slide_type": "subslide"
    }
   },
   "outputs": [
    {
     "data": {
      "text/plain": [
       "[('Harry Potter', 4),\n",
       " ('Ron Wesley', 2),\n",
       " ('Hermonie Granger', 3),\n",
       " ('Ginny Weasley', 3),\n",
       " ('Draco Malfoy', 1),\n",
       " ('Luna Lovegood', 2),\n",
       " ('Cho Chang', 2),\n",
       " ('Cedric Diggory', 1)]"
      ]
     },
     "execution_count": 9,
     "metadata": {},
     "output_type": "execute_result"
    }
   ],
   "source": [
    "query = \"\"\"\n",
    "    SELECT users.full_name, COUNT(follows.follows)\n",
    "    FROM follows\n",
    "    JOIN users on users.user_id = follows.user_id\n",
    "    WHERE follows.date <= '1999-12-31'\n",
    "    GROUP BY users.user_id\n",
    "\"\"\"\n",
    "\n",
    "db.execute(query)\n",
    "number_of_followers_1999_12_31 = db.fetchall()\n",
    "number_of_followers_1999_12_31"
   ]
  },
  {
   "cell_type": "markdown",
   "id": "68f05e28",
   "metadata": {
    "slideshow": {
     "slide_type": "slide"
    }
   },
   "source": [
    "# List the number of users each user follows."
   ]
  },
  {
   "cell_type": "code",
   "execution_count": 10,
   "id": "e4be8324",
   "metadata": {
    "slideshow": {
     "slide_type": "subslide"
    }
   },
   "outputs": [
    {
     "data": {
      "text/plain": [
       "[('Harry Potter', 6),\n",
       " ('Ron Wesley', 3),\n",
       " ('Hermonie Granger', 1),\n",
       " ('Ginny Weasley', 1),\n",
       " ('Draco Malfoy', 1),\n",
       " ('Tom Riddle', 1),\n",
       " ('Luna Lovegood', 1),\n",
       " ('Cho Chang', 3),\n",
       " ('Cedric Diggory', 3)]"
      ]
     },
     "execution_count": 10,
     "metadata": {},
     "output_type": "execute_result"
    }
   ],
   "source": [
    "query = \"\"\"\n",
    "    SELECT users.full_name, COUNT(follows.user_id)\n",
    "    FROM follows\n",
    "    JOIN users on users.user_id = follows.follows\n",
    "    GROUP BY users.user_id\n",
    "\"\"\"\n",
    "\n",
    "db.execute(query)\n",
    "number_followed = db.fetchall()\n",
    "number_followed"
   ]
  },
  {
   "cell_type": "markdown",
   "id": "5b8c0e09",
   "metadata": {
    "slideshow": {
     "slide_type": "slide"
    }
   },
   "source": [
    "# List all rows from follows where someone from one house follows someone from a different house. Please give the result with user names."
   ]
  },
  {
   "cell_type": "code",
   "execution_count": 11,
   "id": "8c027b39",
   "metadata": {
    "slideshow": {
     "slide_type": "subslide"
    }
   },
   "outputs": [
    {
     "data": {
      "text/plain": [
       "[('Harry Potter', 'Gryffindor', 'Draco Malfoy', 'Slytherin'),\n",
       " ('Draco Malfoy', 'Slytherin', 'Harry Potter', 'Gryffindor'),\n",
       " ('Luna Lovegood', 'Ravenclaw', 'Harry Potter', 'Gryffindor'),\n",
       " ('Harry Potter', 'Gryffindor', 'Luna Lovegood', 'Ravenclaw'),\n",
       " ('Harry Potter', 'Gryffindor', 'Cho Chang', 'Ravenclaw'),\n",
       " ('Cho Chang', 'Ravenclaw', 'Harry Potter', 'Gryffindor'),\n",
       " ('Cho Chang', 'Ravenclaw', 'Cedric Diggory', 'Hufflepuff'),\n",
       " ('Cedric Diggory', 'Hufflepuff', 'Cho Chang', 'Ravenclaw'),\n",
       " ('Hermonie Granger', 'Gryffindor', 'Cedric Diggory', 'Hufflepuff'),\n",
       " ('Ginny Weasley', 'Gryffindor', 'Cedric Diggory', 'Hufflepuff')]"
      ]
     },
     "execution_count": 11,
     "metadata": {},
     "output_type": "execute_result"
    }
   ],
   "source": [
    "query = \"\"\"\n",
    "    SELECT uid.full_name, uid.house, uf.full_name, uf.house\n",
    "    FROM follows\n",
    "    LEFT JOIN users uid on uid.user_id = follows.user_id\n",
    "    LEFT JOIN users uf on uf.user_id = follows.follows\n",
    "    WHERE uid.house != uf.house\n",
    "\"\"\"\n",
    "\n",
    "db.execute(query)\n",
    "followed_different_house = db.fetchall()\n",
    "followed_different_house"
   ]
  },
  {
   "cell_type": "markdown",
   "id": "361a35bc",
   "metadata": {
    "slideshow": {
     "slide_type": "slide"
    }
   },
   "source": [
    "# List all unrequited followings (i.e. where A follows B but B does not follow A)."
   ]
  },
  {
   "cell_type": "code",
   "execution_count": 12,
   "id": "60c4223c",
   "metadata": {
    "scrolled": true,
    "slideshow": {
     "slide_type": "subslide"
    }
   },
   "outputs": [
    {
     "data": {
      "text/plain": [
       "[('Hermonie Granger', 'Harry Potter'),\n",
       " ('Ginny Weasley', 'Ron Wesley'),\n",
       " ('Draco Malfoy', 'Tom Riddle'),\n",
       " ('Luna Lovegood', 'Cho Chang'),\n",
       " ('Hermonie Granger', 'Cedric Diggory'),\n",
       " ('Ginny Weasley', 'Cedric Diggory')]"
      ]
     },
     "execution_count": 12,
     "metadata": {},
     "output_type": "execute_result"
    }
   ],
   "source": [
    "query = \"\"\"\n",
    "    SELECT uid.full_name, uf.full_name\n",
    "    FROM follows\n",
    "    LEFT JOIN users uid on uid.user_id = follows.user_id\n",
    "    LEFT JOIN users uf on uf.user_id = follows.follows\n",
    "\"\"\"\n",
    "\n",
    "db.execute(query)\n",
    "all_followings = db.fetchall()\n",
    "all_followings\n",
    "\n",
    "unrequited_followings = []\n",
    "for pair in all_followings:\n",
    "    flipped_pair = (pair[1], pair[0])\n",
    "    if flipped_pair not in all_followings:\n",
    "        unrequited_followings.append(pair)\n",
    "\n",
    "unrequited_followings"
   ]
  }
 ],
 "metadata": {
  "kernelspec": {
   "display_name": "Python 3 (ipykernel)",
   "language": "python",
   "name": "python3"
  },
  "language_info": {
   "codemirror_mode": {
    "name": "ipython",
    "version": 3
   },
   "file_extension": ".py",
   "mimetype": "text/x-python",
   "name": "python",
   "nbconvert_exporter": "python",
   "pygments_lexer": "ipython3",
   "version": "3.10.6"
  },
  "toc": {
   "base_numbering": 1,
   "nav_menu": {},
   "number_sections": true,
   "sideBar": true,
   "skip_h1_title": false,
   "title_cell": "Table of Contents",
   "title_sidebar": "Contents",
   "toc_cell": false,
   "toc_position": {},
   "toc_section_display": true,
   "toc_window_display": false
  },
  "varInspector": {
   "cols": {
    "lenName": 16,
    "lenType": 16,
    "lenVar": 40
   },
   "kernels_config": {
    "python": {
     "delete_cmd_postfix": "",
     "delete_cmd_prefix": "del ",
     "library": "var_list.py",
     "varRefreshCmd": "print(var_dic_list())"
    },
    "r": {
     "delete_cmd_postfix": ") ",
     "delete_cmd_prefix": "rm(",
     "library": "var_list.r",
     "varRefreshCmd": "cat(var_dic_list()) "
    }
   },
   "types_to_exclude": [
    "module",
    "function",
    "builtin_function_or_method",
    "instance",
    "_Feature"
   ],
   "window_display": false
  }
 },
 "nbformat": 4,
 "nbformat_minor": 5
}
